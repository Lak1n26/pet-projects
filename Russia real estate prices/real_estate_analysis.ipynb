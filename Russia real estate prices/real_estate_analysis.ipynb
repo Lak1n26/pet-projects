{
 "cells": [
  {
   "cell_type": "markdown",
   "metadata": {},
   "source": [
    "### Задачи исследования"
   ]
  },
  {
   "cell_type": "markdown",
   "metadata": {},
   "source": [
    "1. изучение имеющихся данных\n",
    "2. предобработка данных (пропуски, некорректные типы данных, дубликаты)\n",
    "3. feature engineering (год, месяц, число, цены квадратного метра, отношение площади кухни к общей)\n",
    "4. построение линейной регрессии для прогнозирования стоимости схожих квартир\n",
    "5. выводы"
   ]
  },
  {
   "cell_type": "code",
   "execution_count": 1,
   "metadata": {},
   "outputs": [],
   "source": [
    "import pandas as pd\n",
    "import numpy as np\n",
    "import seaborn as sns\n",
    "import matplotlib.pyplot as plt"
   ]
  },
  {
   "cell_type": "code",
   "execution_count": 2,
   "metadata": {},
   "outputs": [
    {
     "data": {
      "text/html": [
       "<div>\n",
       "<style scoped>\n",
       "    .dataframe tbody tr th:only-of-type {\n",
       "        vertical-align: middle;\n",
       "    }\n",
       "\n",
       "    .dataframe tbody tr th {\n",
       "        vertical-align: top;\n",
       "    }\n",
       "\n",
       "    .dataframe thead th {\n",
       "        text-align: right;\n",
       "    }\n",
       "</style>\n",
       "<table border=\"1\" class=\"dataframe\">\n",
       "  <thead>\n",
       "    <tr style=\"text-align: right;\">\n",
       "      <th></th>\n",
       "      <th>price</th>\n",
       "      <th>date</th>\n",
       "      <th>time</th>\n",
       "      <th>geo_lat</th>\n",
       "      <th>geo_lon</th>\n",
       "      <th>region</th>\n",
       "      <th>building_type</th>\n",
       "      <th>level</th>\n",
       "      <th>levels</th>\n",
       "      <th>rooms</th>\n",
       "      <th>area</th>\n",
       "      <th>kitchen_area</th>\n",
       "      <th>object_type</th>\n",
       "    </tr>\n",
       "  </thead>\n",
       "  <tbody>\n",
       "    <tr>\n",
       "      <th>0</th>\n",
       "      <td>6050000</td>\n",
       "      <td>2018-02-19</td>\n",
       "      <td>20:00:21</td>\n",
       "      <td>59.805808</td>\n",
       "      <td>30.376141</td>\n",
       "      <td>2661</td>\n",
       "      <td>1</td>\n",
       "      <td>8</td>\n",
       "      <td>10</td>\n",
       "      <td>3</td>\n",
       "      <td>82.6</td>\n",
       "      <td>10.8</td>\n",
       "      <td>1</td>\n",
       "    </tr>\n",
       "    <tr>\n",
       "      <th>1</th>\n",
       "      <td>8650000</td>\n",
       "      <td>2018-02-27</td>\n",
       "      <td>12:04:54</td>\n",
       "      <td>55.683807</td>\n",
       "      <td>37.297405</td>\n",
       "      <td>81</td>\n",
       "      <td>3</td>\n",
       "      <td>5</td>\n",
       "      <td>24</td>\n",
       "      <td>2</td>\n",
       "      <td>69.1</td>\n",
       "      <td>12.0</td>\n",
       "      <td>1</td>\n",
       "    </tr>\n",
       "    <tr>\n",
       "      <th>2</th>\n",
       "      <td>4000000</td>\n",
       "      <td>2018-02-28</td>\n",
       "      <td>15:44:00</td>\n",
       "      <td>56.295250</td>\n",
       "      <td>44.061637</td>\n",
       "      <td>2871</td>\n",
       "      <td>1</td>\n",
       "      <td>5</td>\n",
       "      <td>9</td>\n",
       "      <td>3</td>\n",
       "      <td>66.0</td>\n",
       "      <td>10.0</td>\n",
       "      <td>1</td>\n",
       "    </tr>\n",
       "    <tr>\n",
       "      <th>3</th>\n",
       "      <td>1850000</td>\n",
       "      <td>2018-03-01</td>\n",
       "      <td>11:24:52</td>\n",
       "      <td>44.996132</td>\n",
       "      <td>39.074783</td>\n",
       "      <td>2843</td>\n",
       "      <td>4</td>\n",
       "      <td>12</td>\n",
       "      <td>16</td>\n",
       "      <td>2</td>\n",
       "      <td>38.0</td>\n",
       "      <td>5.0</td>\n",
       "      <td>11</td>\n",
       "    </tr>\n",
       "    <tr>\n",
       "      <th>4</th>\n",
       "      <td>5450000</td>\n",
       "      <td>2018-03-01</td>\n",
       "      <td>17:42:43</td>\n",
       "      <td>55.918767</td>\n",
       "      <td>37.984642</td>\n",
       "      <td>81</td>\n",
       "      <td>3</td>\n",
       "      <td>13</td>\n",
       "      <td>14</td>\n",
       "      <td>2</td>\n",
       "      <td>60.0</td>\n",
       "      <td>10.0</td>\n",
       "      <td>1</td>\n",
       "    </tr>\n",
       "  </tbody>\n",
       "</table>\n",
       "</div>"
      ],
      "text/plain": [
       "     price        date      time    geo_lat    geo_lon  region  building_type  \\\n",
       "0  6050000  2018-02-19  20:00:21  59.805808  30.376141    2661              1   \n",
       "1  8650000  2018-02-27  12:04:54  55.683807  37.297405      81              3   \n",
       "2  4000000  2018-02-28  15:44:00  56.295250  44.061637    2871              1   \n",
       "3  1850000  2018-03-01  11:24:52  44.996132  39.074783    2843              4   \n",
       "4  5450000  2018-03-01  17:42:43  55.918767  37.984642      81              3   \n",
       "\n",
       "   level  levels  rooms  area  kitchen_area  object_type  \n",
       "0      8      10      3  82.6          10.8            1  \n",
       "1      5      24      2  69.1          12.0            1  \n",
       "2      5       9      3  66.0          10.0            1  \n",
       "3     12      16      2  38.0           5.0           11  \n",
       "4     13      14      2  60.0          10.0            1  "
      ]
     },
     "execution_count": 2,
     "metadata": {},
     "output_type": "execute_result"
    }
   ],
   "source": [
    "data = pd.read_csv('russia_real_estate.csv')\n",
    "# url: https://www.kaggle.com/datasets/mrdaniilak/russia-real-estate-20182021\n",
    "data.head()"
   ]
  },
  {
   "cell_type": "code",
   "execution_count": 3,
   "metadata": {},
   "outputs": [
    {
     "name": "stdout",
     "output_type": "stream",
     "text": [
      "<class 'pandas.core.frame.DataFrame'>\n",
      "RangeIndex: 5477006 entries, 0 to 5477005\n",
      "Data columns (total 13 columns):\n",
      " #   Column         Dtype  \n",
      "---  ------         -----  \n",
      " 0   price          int64  \n",
      " 1   date           object \n",
      " 2   time           object \n",
      " 3   geo_lat        float64\n",
      " 4   geo_lon        float64\n",
      " 5   region         int64  \n",
      " 6   building_type  int64  \n",
      " 7   level          int64  \n",
      " 8   levels         int64  \n",
      " 9   rooms          int64  \n",
      " 10  area           float64\n",
      " 11  kitchen_area   float64\n",
      " 12  object_type    int64  \n",
      "dtypes: float64(4), int64(7), object(2)\n",
      "memory usage: 543.2+ MB\n"
     ]
    }
   ],
   "source": [
    "data.info()"
   ]
  },
  {
   "cell_type": "markdown",
   "metadata": {},
   "source": [
    "- date - date of publication of the announcement (дата публикации объявления);\n",
    "- time - the time when the ad was published (время публикации объявления);\n",
    "- geo_lat - Latitude (широта)\n",
    "- geo_lon - Longitude (долгота)\n",
    "- region - Region of Russia (регион России). There are 85 subjects in the country in total.\n",
    "- building_type - Facade type (тип фасада). 0 - Other. 1 - Panel. 2 - Monolithic. 3 - Brick. 4 - Blocky. 5 - Wooden\n",
    "- object_type - Apartment type (тип квартиры: новостройка/вторичка). 1 - Secondary real estate market; 2 - New building;\n",
    "- level - Apartment floor (этаж)\n",
    "- levels - Number of storeys (количество этажей в доме)\n",
    "- rooms - the number of living rooms (количество жилых комнат). If the value is \"-1\", then it means \"studio apartment\"\n",
    "- area - the total area of the apartment (общая площадь квартиры)\n",
    "- kitchen_area - Kitchen area (площадь кухни)\n",
    "- price - Price. in rubles (цена в рублях)"
   ]
  },
  {
   "cell_type": "code",
   "execution_count": 4,
   "metadata": {},
   "outputs": [
    {
     "data": {
      "text/plain": [
       "price            0\n",
       "date             0\n",
       "time             0\n",
       "geo_lat          0\n",
       "geo_lon          0\n",
       "region           0\n",
       "building_type    0\n",
       "level            0\n",
       "levels           0\n",
       "rooms            0\n",
       "area             0\n",
       "kitchen_area     0\n",
       "object_type      0\n",
       "dtype: int64"
      ]
     },
     "execution_count": 4,
     "metadata": {},
     "output_type": "execute_result"
    }
   ],
   "source": [
    "# пропусков нет\n",
    "data.isnull().sum()"
   ]
  },
  {
   "cell_type": "code",
   "execution_count": 5,
   "metadata": {},
   "outputs": [
    {
     "data": {
      "text/html": [
       "<div>\n",
       "<style scoped>\n",
       "    .dataframe tbody tr th:only-of-type {\n",
       "        vertical-align: middle;\n",
       "    }\n",
       "\n",
       "    .dataframe tbody tr th {\n",
       "        vertical-align: top;\n",
       "    }\n",
       "\n",
       "    .dataframe thead th {\n",
       "        text-align: right;\n",
       "    }\n",
       "</style>\n",
       "<table border=\"1\" class=\"dataframe\">\n",
       "  <thead>\n",
       "    <tr style=\"text-align: right;\">\n",
       "      <th></th>\n",
       "      <th>price</th>\n",
       "      <th>geo_lat</th>\n",
       "      <th>geo_lon</th>\n",
       "      <th>region</th>\n",
       "      <th>building_type</th>\n",
       "      <th>level</th>\n",
       "      <th>levels</th>\n",
       "      <th>rooms</th>\n",
       "      <th>area</th>\n",
       "      <th>kitchen_area</th>\n",
       "      <th>object_type</th>\n",
       "    </tr>\n",
       "  </thead>\n",
       "  <tbody>\n",
       "    <tr>\n",
       "      <th>count</th>\n",
       "      <td>5.477006e+06</td>\n",
       "      <td>5.477006e+06</td>\n",
       "      <td>5.477006e+06</td>\n",
       "      <td>5.477006e+06</td>\n",
       "      <td>5.477006e+06</td>\n",
       "      <td>5.477006e+06</td>\n",
       "      <td>5.477006e+06</td>\n",
       "      <td>5.477006e+06</td>\n",
       "      <td>5.477006e+06</td>\n",
       "      <td>5.477006e+06</td>\n",
       "      <td>5.477006e+06</td>\n",
       "    </tr>\n",
       "    <tr>\n",
       "      <th>mean</th>\n",
       "      <td>4.422029e+06</td>\n",
       "      <td>5.403826e+01</td>\n",
       "      <td>5.324433e+01</td>\n",
       "      <td>4.307141e+03</td>\n",
       "      <td>1.948966e+00</td>\n",
       "      <td>6.214530e+00</td>\n",
       "      <td>1.139892e+01</td>\n",
       "      <td>1.726173e+00</td>\n",
       "      <td>5.391825e+01</td>\n",
       "      <td>1.062840e+01</td>\n",
       "      <td>3.945399e+00</td>\n",
       "    </tr>\n",
       "    <tr>\n",
       "      <th>std</th>\n",
       "      <td>2.150752e+07</td>\n",
       "      <td>4.622758e+00</td>\n",
       "      <td>2.074763e+01</td>\n",
       "      <td>3.308050e+03</td>\n",
       "      <td>1.038537e+00</td>\n",
       "      <td>4.957419e+00</td>\n",
       "      <td>6.535734e+00</td>\n",
       "      <td>1.082133e+00</td>\n",
       "      <td>3.335293e+01</td>\n",
       "      <td>9.792380e+00</td>\n",
       "      <td>4.558357e+00</td>\n",
       "    </tr>\n",
       "    <tr>\n",
       "      <th>min</th>\n",
       "      <td>-2.144967e+09</td>\n",
       "      <td>4.145906e+01</td>\n",
       "      <td>1.989020e+01</td>\n",
       "      <td>3.000000e+00</td>\n",
       "      <td>0.000000e+00</td>\n",
       "      <td>1.000000e+00</td>\n",
       "      <td>1.000000e+00</td>\n",
       "      <td>-2.000000e+00</td>\n",
       "      <td>7.000000e-02</td>\n",
       "      <td>1.000000e-02</td>\n",
       "      <td>1.000000e+00</td>\n",
       "    </tr>\n",
       "    <tr>\n",
       "      <th>25%</th>\n",
       "      <td>1.950000e+06</td>\n",
       "      <td>5.337768e+01</td>\n",
       "      <td>3.777790e+01</td>\n",
       "      <td>2.661000e+03</td>\n",
       "      <td>1.000000e+00</td>\n",
       "      <td>2.000000e+00</td>\n",
       "      <td>5.000000e+00</td>\n",
       "      <td>1.000000e+00</td>\n",
       "      <td>3.800000e+01</td>\n",
       "      <td>7.000000e+00</td>\n",
       "      <td>1.000000e+00</td>\n",
       "    </tr>\n",
       "    <tr>\n",
       "      <th>50%</th>\n",
       "      <td>2.990000e+06</td>\n",
       "      <td>5.517139e+01</td>\n",
       "      <td>4.306774e+01</td>\n",
       "      <td>2.922000e+03</td>\n",
       "      <td>2.000000e+00</td>\n",
       "      <td>5.000000e+00</td>\n",
       "      <td>1.000000e+01</td>\n",
       "      <td>2.000000e+00</td>\n",
       "      <td>4.802000e+01</td>\n",
       "      <td>9.700000e+00</td>\n",
       "      <td>1.000000e+00</td>\n",
       "    </tr>\n",
       "    <tr>\n",
       "      <th>75%</th>\n",
       "      <td>4.802000e+06</td>\n",
       "      <td>5.622613e+01</td>\n",
       "      <td>6.564895e+01</td>\n",
       "      <td>6.171000e+03</td>\n",
       "      <td>3.000000e+00</td>\n",
       "      <td>9.000000e+00</td>\n",
       "      <td>1.600000e+01</td>\n",
       "      <td>2.000000e+00</td>\n",
       "      <td>6.313000e+01</td>\n",
       "      <td>1.270000e+01</td>\n",
       "      <td>1.100000e+01</td>\n",
       "    </tr>\n",
       "    <tr>\n",
       "      <th>max</th>\n",
       "      <td>2.147484e+09</td>\n",
       "      <td>7.198040e+01</td>\n",
       "      <td>1.625361e+02</td>\n",
       "      <td>6.188800e+04</td>\n",
       "      <td>5.000000e+00</td>\n",
       "      <td>3.900000e+01</td>\n",
       "      <td>3.900000e+01</td>\n",
       "      <td>1.000000e+01</td>\n",
       "      <td>7.856000e+03</td>\n",
       "      <td>9.999000e+03</td>\n",
       "      <td>1.100000e+01</td>\n",
       "    </tr>\n",
       "  </tbody>\n",
       "</table>\n",
       "</div>"
      ],
      "text/plain": [
       "              price       geo_lat       geo_lon        region  building_type  \\\n",
       "count  5.477006e+06  5.477006e+06  5.477006e+06  5.477006e+06   5.477006e+06   \n",
       "mean   4.422029e+06  5.403826e+01  5.324433e+01  4.307141e+03   1.948966e+00   \n",
       "std    2.150752e+07  4.622758e+00  2.074763e+01  3.308050e+03   1.038537e+00   \n",
       "min   -2.144967e+09  4.145906e+01  1.989020e+01  3.000000e+00   0.000000e+00   \n",
       "25%    1.950000e+06  5.337768e+01  3.777790e+01  2.661000e+03   1.000000e+00   \n",
       "50%    2.990000e+06  5.517139e+01  4.306774e+01  2.922000e+03   2.000000e+00   \n",
       "75%    4.802000e+06  5.622613e+01  6.564895e+01  6.171000e+03   3.000000e+00   \n",
       "max    2.147484e+09  7.198040e+01  1.625361e+02  6.188800e+04   5.000000e+00   \n",
       "\n",
       "              level        levels         rooms          area  kitchen_area  \\\n",
       "count  5.477006e+06  5.477006e+06  5.477006e+06  5.477006e+06  5.477006e+06   \n",
       "mean   6.214530e+00  1.139892e+01  1.726173e+00  5.391825e+01  1.062840e+01   \n",
       "std    4.957419e+00  6.535734e+00  1.082133e+00  3.335293e+01  9.792380e+00   \n",
       "min    1.000000e+00  1.000000e+00 -2.000000e+00  7.000000e-02  1.000000e-02   \n",
       "25%    2.000000e+00  5.000000e+00  1.000000e+00  3.800000e+01  7.000000e+00   \n",
       "50%    5.000000e+00  1.000000e+01  2.000000e+00  4.802000e+01  9.700000e+00   \n",
       "75%    9.000000e+00  1.600000e+01  2.000000e+00  6.313000e+01  1.270000e+01   \n",
       "max    3.900000e+01  3.900000e+01  1.000000e+01  7.856000e+03  9.999000e+03   \n",
       "\n",
       "        object_type  \n",
       "count  5.477006e+06  \n",
       "mean   3.945399e+00  \n",
       "std    4.558357e+00  \n",
       "min    1.000000e+00  \n",
       "25%    1.000000e+00  \n",
       "50%    1.000000e+00  \n",
       "75%    1.100000e+01  \n",
       "max    1.100000e+01  "
      ]
     },
     "execution_count": 5,
     "metadata": {},
     "output_type": "execute_result"
    }
   ],
   "source": [
    "data.describe()"
   ]
  },
  {
   "cell_type": "markdown",
   "metadata": {},
   "source": [
    "**Аномалии**\n",
    "\n",
    "- Минимальное количество комнат - -2\n",
    "- Цена меньше 0 руб\n",
    "- Цена больше 2_000_000_000 руб\n",
    "- Площадь кухни больше или равна общей площади квартиры\n",
    "- Этаж квартиры больше общего количества этажей\n",
    "- Тип квартиры \"11\", а должен быть \"2\""
   ]
  },
  {
   "cell_type": "code",
   "execution_count": 6,
   "metadata": {},
   "outputs": [],
   "source": [
    "# установим границы для устранения аномалий\n",
    "\n",
    "MIN_AREA = 20 \n",
    "MAX_AREA = 200\n",
    "\n",
    "MIN_KITCHEN = 3\n",
    "MAX_KITCHEN = 30\n",
    "\n",
    "MIN_PRICE = 1_000_000\n",
    "MAX_PRICE = 50_000_000\n",
    "\n",
    "MIN_ROOMS = 1\n",
    "MAX_ROOMS = 5"
   ]
  },
  {
   "cell_type": "code",
   "execution_count": 7,
   "metadata": {},
   "outputs": [
    {
     "name": "stdout",
     "output_type": "stream",
     "text": [
      "<class 'pandas.core.frame.DataFrame'>\n",
      "Int64Index: 4920185 entries, 0 to 5477005\n",
      "Data columns (total 13 columns):\n",
      " #   Column         Dtype  \n",
      "---  ------         -----  \n",
      " 0   price          int64  \n",
      " 1   date           object \n",
      " 2   time           object \n",
      " 3   geo_lat        float64\n",
      " 4   geo_lon        float64\n",
      " 5   region         int64  \n",
      " 6   building_type  int64  \n",
      " 7   level          int64  \n",
      " 8   levels         int64  \n",
      " 9   rooms          int64  \n",
      " 10  area           float64\n",
      " 11  kitchen_area   float64\n",
      " 12  object_type    int64  \n",
      "dtypes: float64(4), int64(7), object(2)\n",
      "memory usage: 525.5+ MB\n"
     ]
    }
   ],
   "source": [
    "# устраняем аномалии связанные с площадью квартиры\n",
    "data = data[(data['area'] >= MIN_AREA) & (data['area'] <= MAX_AREA)]\n",
    "\n",
    "# устраняем аномалии связанные с площадью кухни\n",
    "data = data[(data['kitchen_area'] >= MIN_KITCHEN) & (data['kitchen_area'] <= MAX_KITCHEN)]  \n",
    "\n",
    "# устраняем аномалии связанные со стоимостью квартиры\n",
    "data = data[(data['price'] >= MIN_PRICE) & (data['price'] <= MAX_PRICE)]  \n",
    "\n",
    "# устраняем аномалии связанные с количеством комнат\n",
    "data = data[(data['rooms'] >= MIN_ROOMS) & (data['rooms'] <= MAX_ROOMS)]  \n",
    "\n",
    "# устраняем аномалии связанные с этажами \n",
    "data = data[data['level'] <= data['levels']] \n",
    "\n",
    "# устраняем аномалии связанные с типом квартиры \n",
    "data[data['object_type'] == 11] = 2\n",
    "\n",
    "data.info()"
   ]
  },
  {
   "cell_type": "markdown",
   "metadata": {},
   "source": [
    "После устранение выбросов количество записей уменьшилось с 5.5 млн до 4.5 млн :)"
   ]
  },
  {
   "cell_type": "markdown",
   "metadata": {},
   "source": [
    "# Feature engineering"
   ]
  },
  {
   "cell_type": "code",
   "execution_count": 8,
   "metadata": {},
   "outputs": [],
   "source": [
    "data['date'] = pd.to_datetime(data['date'])"
   ]
  },
  {
   "cell_type": "code",
   "execution_count": 9,
   "metadata": {},
   "outputs": [],
   "source": [
    "data['year'] = data['date'].dt.year\n",
    "data['month'] = data['date'].dt.month\n",
    "data['day'] = data['date'].dt.day\n",
    "\n",
    "# этаж квартиры по отношению к общему количеству этажей\n",
    "data['level_to_levels'] = data['level'] / data['levels']\n",
    "\n",
    "# средняя площадь комнаты в квартире\n",
    "data['avg_room_size'] = data['area'] / data['rooms']\n",
    "\n",
    "# доля кухни в обшей площади\n",
    "data['kitchen_share'] = data['kitchen_area'] / data['area']"
   ]
  },
  {
   "cell_type": "code",
   "execution_count": 10,
   "metadata": {},
   "outputs": [],
   "source": [
    "# удаляем лишние колонки\n",
    "data = data.drop(['date', 'time', 'geo_lat', 'geo_lon'] , axis=1)"
   ]
  },
  {
   "cell_type": "code",
   "execution_count": 11,
   "metadata": {},
   "outputs": [
    {
     "data": {
      "text/html": [
       "<div>\n",
       "<style scoped>\n",
       "    .dataframe tbody tr th:only-of-type {\n",
       "        vertical-align: middle;\n",
       "    }\n",
       "\n",
       "    .dataframe tbody tr th {\n",
       "        vertical-align: top;\n",
       "    }\n",
       "\n",
       "    .dataframe thead th {\n",
       "        text-align: right;\n",
       "    }\n",
       "</style>\n",
       "<table border=\"1\" class=\"dataframe\">\n",
       "  <thead>\n",
       "    <tr style=\"text-align: right;\">\n",
       "      <th></th>\n",
       "      <th>price</th>\n",
       "      <th>region</th>\n",
       "      <th>building_type</th>\n",
       "      <th>level</th>\n",
       "      <th>levels</th>\n",
       "      <th>rooms</th>\n",
       "      <th>area</th>\n",
       "      <th>kitchen_area</th>\n",
       "      <th>object_type</th>\n",
       "      <th>year</th>\n",
       "      <th>month</th>\n",
       "      <th>day</th>\n",
       "      <th>level_to_levels</th>\n",
       "      <th>avg_room_size</th>\n",
       "      <th>kitchen_share</th>\n",
       "    </tr>\n",
       "  </thead>\n",
       "  <tbody>\n",
       "    <tr>\n",
       "      <th>0</th>\n",
       "      <td>6050000</td>\n",
       "      <td>2661</td>\n",
       "      <td>1</td>\n",
       "      <td>8</td>\n",
       "      <td>10</td>\n",
       "      <td>3</td>\n",
       "      <td>82.6</td>\n",
       "      <td>10.8</td>\n",
       "      <td>1</td>\n",
       "      <td>2018</td>\n",
       "      <td>2</td>\n",
       "      <td>19</td>\n",
       "      <td>0.800000</td>\n",
       "      <td>27.533333</td>\n",
       "      <td>0.130751</td>\n",
       "    </tr>\n",
       "    <tr>\n",
       "      <th>1</th>\n",
       "      <td>8650000</td>\n",
       "      <td>81</td>\n",
       "      <td>3</td>\n",
       "      <td>5</td>\n",
       "      <td>24</td>\n",
       "      <td>2</td>\n",
       "      <td>69.1</td>\n",
       "      <td>12.0</td>\n",
       "      <td>1</td>\n",
       "      <td>2018</td>\n",
       "      <td>2</td>\n",
       "      <td>27</td>\n",
       "      <td>0.208333</td>\n",
       "      <td>34.550000</td>\n",
       "      <td>0.173661</td>\n",
       "    </tr>\n",
       "    <tr>\n",
       "      <th>2</th>\n",
       "      <td>4000000</td>\n",
       "      <td>2871</td>\n",
       "      <td>1</td>\n",
       "      <td>5</td>\n",
       "      <td>9</td>\n",
       "      <td>3</td>\n",
       "      <td>66.0</td>\n",
       "      <td>10.0</td>\n",
       "      <td>1</td>\n",
       "      <td>2018</td>\n",
       "      <td>2</td>\n",
       "      <td>28</td>\n",
       "      <td>0.555556</td>\n",
       "      <td>22.000000</td>\n",
       "      <td>0.151515</td>\n",
       "    </tr>\n",
       "    <tr>\n",
       "      <th>3</th>\n",
       "      <td>2</td>\n",
       "      <td>2</td>\n",
       "      <td>2</td>\n",
       "      <td>2</td>\n",
       "      <td>2</td>\n",
       "      <td>2</td>\n",
       "      <td>2.0</td>\n",
       "      <td>2.0</td>\n",
       "      <td>2</td>\n",
       "      <td>1970</td>\n",
       "      <td>1</td>\n",
       "      <td>1</td>\n",
       "      <td>1.000000</td>\n",
       "      <td>1.000000</td>\n",
       "      <td>1.000000</td>\n",
       "    </tr>\n",
       "    <tr>\n",
       "      <th>4</th>\n",
       "      <td>5450000</td>\n",
       "      <td>81</td>\n",
       "      <td>3</td>\n",
       "      <td>13</td>\n",
       "      <td>14</td>\n",
       "      <td>2</td>\n",
       "      <td>60.0</td>\n",
       "      <td>10.0</td>\n",
       "      <td>1</td>\n",
       "      <td>2018</td>\n",
       "      <td>3</td>\n",
       "      <td>1</td>\n",
       "      <td>0.928571</td>\n",
       "      <td>30.000000</td>\n",
       "      <td>0.166667</td>\n",
       "    </tr>\n",
       "  </tbody>\n",
       "</table>\n",
       "</div>"
      ],
      "text/plain": [
       "     price  region  building_type  level  levels  rooms  area  kitchen_area  \\\n",
       "0  6050000    2661              1      8      10      3  82.6          10.8   \n",
       "1  8650000      81              3      5      24      2  69.1          12.0   \n",
       "2  4000000    2871              1      5       9      3  66.0          10.0   \n",
       "3        2       2              2      2       2      2   2.0           2.0   \n",
       "4  5450000      81              3     13      14      2  60.0          10.0   \n",
       "\n",
       "   object_type  year  month  day  level_to_levels  avg_room_size  \\\n",
       "0            1  2018      2   19         0.800000      27.533333   \n",
       "1            1  2018      2   27         0.208333      34.550000   \n",
       "2            1  2018      2   28         0.555556      22.000000   \n",
       "3            2  1970      1    1         1.000000       1.000000   \n",
       "4            1  2018      3    1         0.928571      30.000000   \n",
       "\n",
       "   kitchen_share  \n",
       "0       0.130751  \n",
       "1       0.173661  \n",
       "2       0.151515  \n",
       "3       1.000000  \n",
       "4       0.166667  "
      ]
     },
     "execution_count": 11,
     "metadata": {},
     "output_type": "execute_result"
    }
   ],
   "source": [
    "data.head()"
   ]
  },
  {
   "cell_type": "markdown",
   "metadata": {},
   "source": [
    "## Графики"
   ]
  },
  {
   "cell_type": "code",
   "execution_count": 12,
   "metadata": {},
   "outputs": [
    {
     "data": {
      "text/plain": [
       "Text(0.5, 1.0, 'Распределение стоимости квартир')"
      ]
     },
     "execution_count": 12,
     "metadata": {},
     "output_type": "execute_result"
    },
    {
     "data": {
      "image/png": "[encoded data removed]",
      "text/plain": [
       "<Figure size 500x500 with 1 Axes>"
      ]
     },
     "metadata": {},
     "output_type": "display_data"
    }
   ],
   "source": [
    "sns.displot(data.price, bins=20)\n",
    "plt.title(\"Распределение стоимости квартир\")"
   ]
  },
  {
   "cell_type": "code",
   "execution_count": 13,
   "metadata": {},
   "outputs": [
    {
     "data": {
      "text/plain": [
       "Text(0.5, 1.0, 'Площадь квартиры')"
      ]
     },
     "execution_count": 13,
     "metadata": {},
     "output_type": "execute_result"
    },
    {
     "data": {
      "image/png": "[encoded data removed]",
      "text/plain": [
       "<Figure size 640x480 with 1 Axes>"
      ]
     },
     "metadata": {},
     "output_type": "display_data"
    }
   ],
   "source": [
    "sns.histplot(data['area'], bins=25)\n",
    "plt.title('Площадь квартиры')"
   ]
  },
  {
   "cell_type": "code",
   "execution_count": 14,
   "metadata": {},
   "outputs": [
    {
     "data": {
      "text/plain": [
       "Text(0.5, 1.0, 'Тип фасада')"
      ]
     },
     "execution_count": 14,
     "metadata": {},
     "output_type": "execute_result"
    },
    {
     "data": {
      "image/png": "[encoded data removed]",
      "text/plain": [
       "<Figure size 640x480 with 1 Axes>"
      ]
     },
     "metadata": {},
     "output_type": "display_data"
    }
   ],
   "source": [
    "building_types = data['building_type'].value_counts().sort_index(ascending=True)\n",
    "colors = sns.color_palette('pastel')[0:6]\n",
    "labels = ['Другое', 'Панель', 'Монолитный', 'Кирпич', 'Блочный', 'Деревянный']\n",
    "plt.pie(building_types, labels=labels, colors=colors, autopct='%.0f%%')\n",
    "plt.title('Тип фасада')"
   ]
  },
  {
   "cell_type": "code",
   "execution_count": 15,
   "metadata": {},
   "outputs": [
    {
     "data": {
      "text/plain": [
       "Text(0.5, 1.0, 'Тип квартиры')"
      ]
     },
     "execution_count": 15,
     "metadata": {},
     "output_type": "execute_result"
    },
    {
     "data": {
      "image/png": "[encoded data removed]",
      "text/plain": [
       "<Figure size 640x480 with 1 Axes>"
      ]
     },
     "metadata": {},
     "output_type": "display_data"
    }
   ],
   "source": [
    "obj_types = data['object_type'].value_counts()\n",
    "labels = ['Новостройка', 'Вторичка']\n",
    "colors = sns.color_palette('pastel')[0:2]\n",
    "plt.pie(obj_types, labels=labels, colors=colors, autopct='%.0f%%')\n",
    "plt.title('Тип квартиры')"
   ]
  },
  {
   "cell_type": "code",
   "execution_count": 16,
   "metadata": {},
   "outputs": [
    {
     "data": {
      "text/plain": [
       "Text(0.5, 1.0, 'Количество комнат')"
      ]
     },
     "execution_count": 16,
     "metadata": {},
     "output_type": "execute_result"
    },
    {
     "data": {
      "image/png": "[encoded data removed]",
      "text/plain": [
       "<Figure size 640x480 with 1 Axes>"
      ]
     },
     "metadata": {},
     "output_type": "display_data"
    }
   ],
   "source": [
    "rooms = data['rooms'].value_counts()\n",
    "colors = sns.color_palette('pastel')[4:9]\n",
    "labels = ['1', '2', '3', '4', '5']\n",
    "plt.pie(rooms, labels=labels, colors=colors, autopct=\"%.0f%%\")\n",
    "plt.title('Количество комнат')\n"
   ]
  },
  {
   "cell_type": "markdown",
   "metadata": {},
   "source": [
    "## Корреляция"
   ]
  },
  {
   "cell_type": "code",
   "execution_count": 17,
   "metadata": {},
   "outputs": [
    {
     "data": {
      "text/plain": [
       "<AxesSubplot:>"
      ]
     },
     "execution_count": 17,
     "metadata": {},
     "output_type": "execute_result"
    },
    {
     "data": {
      "image/png": "[encoded data removed]",
      "text/plain": [
       "<Figure size 640x480 with 2 Axes>"
      ]
     },
     "metadata": {},
     "output_type": "display_data"
    }
   ],
   "source": [
    "correlation = data.corr()\n",
    "sns.heatmap(correlation)"
   ]
  },
  {
   "cell_type": "code",
   "execution_count": 18,
   "metadata": {},
   "outputs": [
    {
     "data": {
      "text/plain": [
       "price            1.000000\n",
       "area             0.678714\n",
       "kitchen_area     0.572719\n",
       "levels           0.516221\n",
       "year             0.509087\n",
       "avg_room_size    0.481792\n",
       "level            0.369746\n",
       "day              0.336276\n",
       "month            0.312757\n",
       "rooms            0.253041\n",
       "Name: price, dtype: float64"
      ]
     },
     "execution_count": 18,
     "metadata": {},
     "output_type": "execute_result"
    }
   ],
   "source": [
    "correlation[correlation['price'] > 0.1]['price'].sort_values(ascending=False)"
   ]
  },
  {
   "cell_type": "code",
   "execution_count": 19,
   "metadata": {},
   "outputs": [
    {
     "ename": "KeyboardInterrupt",
     "evalue": "",
     "output_type": "error",
     "traceback": [
      "\u001b[1;31m---------------------------------------------------------------------------\u001b[0m",
      "\u001b[1;31mKeyboardInterrupt\u001b[0m                         Traceback (most recent call last)",
      "Cell \u001b[1;32mIn [19], line 2\u001b[0m\n\u001b[0;32m      1\u001b[0m sns\u001b[38;5;241m.\u001b[39mset(style\u001b[38;5;241m=\u001b[39m\u001b[38;5;124m'\u001b[39m\u001b[38;5;124mwhitegrid\u001b[39m\u001b[38;5;124m'\u001b[39m)\n\u001b[1;32m----> 2\u001b[0m \u001b[43msns\u001b[49m\u001b[38;5;241;43m.\u001b[39;49m\u001b[43mpairplot\u001b[49m\u001b[43m(\u001b[49m\u001b[43mdata\u001b[49m\u001b[43m[\u001b[49m\u001b[43m[\u001b[49m\u001b[38;5;124;43m'\u001b[39;49m\u001b[38;5;124;43mprice\u001b[39;49m\u001b[38;5;124;43m'\u001b[39;49m\u001b[43m,\u001b[49m\u001b[43m \u001b[49m\u001b[38;5;124;43m'\u001b[39;49m\u001b[38;5;124;43marea\u001b[39;49m\u001b[38;5;124;43m'\u001b[39;49m\u001b[43m]\u001b[49m\u001b[43m]\u001b[49m\u001b[43m,\u001b[49m\u001b[43m \u001b[49m\u001b[43mkind\u001b[49m\u001b[38;5;241;43m=\u001b[39;49m\u001b[38;5;124;43m'\u001b[39;49m\u001b[38;5;124;43mreg\u001b[39;49m\u001b[38;5;124;43m'\u001b[39;49m\u001b[43m)\u001b[49m\n",
      "File \u001b[1;32m~\\AppData\\Local\\Programs\\Python\\Python39\\lib\\site-packages\\seaborn\\axisgrid.py:2144\u001b[0m, in \u001b[0;36mpairplot\u001b[1;34m(data, hue, hue_order, palette, vars, x_vars, y_vars, kind, diag_kind, markers, height, aspect, corner, dropna, plot_kws, diag_kws, grid_kws, size)\u001b[0m\n\u001b[0;32m   2142\u001b[0m diag_kws\u001b[38;5;241m.\u001b[39msetdefault(\u001b[38;5;124m\"\u001b[39m\u001b[38;5;124mlegend\u001b[39m\u001b[38;5;124m\"\u001b[39m, \u001b[38;5;28;01mFalse\u001b[39;00m)\n\u001b[0;32m   2143\u001b[0m \u001b[38;5;28;01mif\u001b[39;00m diag_kind \u001b[38;5;241m==\u001b[39m \u001b[38;5;124m\"\u001b[39m\u001b[38;5;124mhist\u001b[39m\u001b[38;5;124m\"\u001b[39m:\n\u001b[1;32m-> 2144\u001b[0m     grid\u001b[38;5;241m.\u001b[39mmap_diag(histplot, \u001b[38;5;241m*\u001b[39m\u001b[38;5;241m*\u001b[39mdiag_kws)\n\u001b[0;32m   2145\u001b[0m \u001b[38;5;28;01melif\u001b[39;00m diag_kind \u001b[38;5;241m==\u001b[39m \u001b[38;5;124m\"\u001b[39m\u001b[38;5;124mkde\u001b[39m\u001b[38;5;124m\"\u001b[39m:\n\u001b[0;32m   2146\u001b[0m     diag_kws\u001b[38;5;241m.\u001b[39msetdefault(\u001b[38;5;124m\"\u001b[39m\u001b[38;5;124mfill\u001b[39m\u001b[38;5;124m\"\u001b[39m, \u001b[38;5;28;01mTrue\u001b[39;00m)\n",
      "File \u001b[1;32m~\\AppData\\Local\\Programs\\Python\\Python39\\lib\\site-packages\\seaborn\\axisgrid.py:1507\u001b[0m, in \u001b[0;36mPairGrid.map_diag\u001b[1;34m(self, func, **kwargs)\u001b[0m\n\u001b[0;32m   1505\u001b[0m     plot_kwargs\u001b[38;5;241m.\u001b[39msetdefault(\u001b[38;5;124m\"\u001b[39m\u001b[38;5;124mhue_order\u001b[39m\u001b[38;5;124m\"\u001b[39m, \u001b[38;5;28mself\u001b[39m\u001b[38;5;241m.\u001b[39m_hue_order)\n\u001b[0;32m   1506\u001b[0m     plot_kwargs\u001b[38;5;241m.\u001b[39msetdefault(\u001b[38;5;124m\"\u001b[39m\u001b[38;5;124mpalette\u001b[39m\u001b[38;5;124m\"\u001b[39m, \u001b[38;5;28mself\u001b[39m\u001b[38;5;241m.\u001b[39m_orig_palette)\n\u001b[1;32m-> 1507\u001b[0m     func(x\u001b[38;5;241m=\u001b[39mvector, \u001b[38;5;241m*\u001b[39m\u001b[38;5;241m*\u001b[39mplot_kwargs)\n\u001b[0;32m   1508\u001b[0m     ax\u001b[38;5;241m.\u001b[39mlegend_ \u001b[38;5;241m=\u001b[39m \u001b[38;5;28;01mNone\u001b[39;00m\n\u001b[0;32m   1510\u001b[0m \u001b[38;5;28mself\u001b[39m\u001b[38;5;241m.\u001b[39m_add_axis_labels()\n",
      "File \u001b[1;32m~\\AppData\\Local\\Programs\\Python\\Python39\\lib\\site-packages\\seaborn\\distributions.py:1432\u001b[0m, in \u001b[0;36mhistplot\u001b[1;34m(data, x, y, hue, weights, stat, bins, binwidth, binrange, discrete, cumulative, common_bins, common_norm, multiple, element, fill, shrink, kde, kde_kws, line_kws, thresh, pthresh, pmax, cbar, cbar_ax, cbar_kws, palette, hue_order, hue_norm, color, log_scale, legend, ax, **kwargs)\u001b[0m\n\u001b[0;32m   1421\u001b[0m estimate_kws \u001b[38;5;241m=\u001b[39m \u001b[38;5;28mdict\u001b[39m(\n\u001b[0;32m   1422\u001b[0m     stat\u001b[38;5;241m=\u001b[39mstat,\n\u001b[0;32m   1423\u001b[0m     bins\u001b[38;5;241m=\u001b[39mbins,\n\u001b[1;32m   (...)\u001b[0m\n\u001b[0;32m   1427\u001b[0m     cumulative\u001b[38;5;241m=\u001b[39mcumulative,\n\u001b[0;32m   1428\u001b[0m )\n\u001b[0;32m   1430\u001b[0m \u001b[38;5;28;01mif\u001b[39;00m p\u001b[38;5;241m.\u001b[39munivariate:\n\u001b[1;32m-> 1432\u001b[0m     p\u001b[38;5;241m.\u001b[39mplot_univariate_histogram(\n\u001b[0;32m   1433\u001b[0m         multiple\u001b[38;5;241m=\u001b[39mmultiple,\n\u001b[0;32m   1434\u001b[0m         element\u001b[38;5;241m=\u001b[39melement,\n\u001b[0;32m   1435\u001b[0m         fill\u001b[38;5;241m=\u001b[39mfill,\n\u001b[0;32m   1436\u001b[0m         shrink\u001b[38;5;241m=\u001b[39mshrink,\n\u001b[0;32m   1437\u001b[0m         common_norm\u001b[38;5;241m=\u001b[39mcommon_norm,\n\u001b[0;32m   1438\u001b[0m         common_bins\u001b[38;5;241m=\u001b[39mcommon_bins,\n\u001b[0;32m   1439\u001b[0m         kde\u001b[38;5;241m=\u001b[39mkde,\n\u001b[0;32m   1440\u001b[0m         kde_kws\u001b[38;5;241m=\u001b[39mkde_kws,\n\u001b[0;32m   1441\u001b[0m         color\u001b[38;5;241m=\u001b[39mcolor,\n\u001b[0;32m   1442\u001b[0m         legend\u001b[38;5;241m=\u001b[39mlegend,\n\u001b[0;32m   1443\u001b[0m         estimate_kws\u001b[38;5;241m=\u001b[39mestimate_kws,\n\u001b[0;32m   1444\u001b[0m         line_kws\u001b[38;5;241m=\u001b[39mline_kws,\n\u001b[0;32m   1445\u001b[0m         \u001b[38;5;241m*\u001b[39m\u001b[38;5;241m*\u001b[39mkwargs,\n\u001b[0;32m   1446\u001b[0m     )\n\u001b[0;32m   1448\u001b[0m \u001b[38;5;28;01melse\u001b[39;00m:\n\u001b[0;32m   1450\u001b[0m     p\u001b[38;5;241m.\u001b[39mplot_bivariate_histogram(\n\u001b[0;32m   1451\u001b[0m         common_bins\u001b[38;5;241m=\u001b[39mcommon_bins,\n\u001b[0;32m   1452\u001b[0m         common_norm\u001b[38;5;241m=\u001b[39mcommon_norm,\n\u001b[1;32m   (...)\u001b[0m\n\u001b[0;32m   1462\u001b[0m         \u001b[38;5;241m*\u001b[39m\u001b[38;5;241m*\u001b[39mkwargs,\n\u001b[0;32m   1463\u001b[0m     )\n",
      "File \u001b[1;32m~\\AppData\\Local\\Programs\\Python\\Python39\\lib\\site-packages\\seaborn\\distributions.py:575\u001b[0m, in \u001b[0;36m_DistributionPlotter.plot_univariate_histogram\u001b[1;34m(self, multiple, element, fill, common_norm, common_bins, shrink, kde, kde_kws, color, legend, line_kws, estimate_kws, **plot_kws)\u001b[0m\n\u001b[0;32m    570\u001b[0m \u001b[38;5;28;01mif\u001b[39;00m element \u001b[38;5;241m==\u001b[39m \u001b[38;5;124m\"\u001b[39m\u001b[38;5;124mbars\u001b[39m\u001b[38;5;124m\"\u001b[39m:\n\u001b[0;32m    571\u001b[0m \n\u001b[0;32m    572\u001b[0m     \u001b[38;5;66;03m# Use matplotlib bar plotting\u001b[39;00m\n\u001b[0;32m    574\u001b[0m     plot_func \u001b[38;5;241m=\u001b[39m ax\u001b[38;5;241m.\u001b[39mbar \u001b[38;5;28;01mif\u001b[39;00m \u001b[38;5;28mself\u001b[39m\u001b[38;5;241m.\u001b[39mdata_variable \u001b[38;5;241m==\u001b[39m \u001b[38;5;124m\"\u001b[39m\u001b[38;5;124mx\u001b[39m\u001b[38;5;124m\"\u001b[39m \u001b[38;5;28;01melse\u001b[39;00m ax\u001b[38;5;241m.\u001b[39mbarh\n\u001b[1;32m--> 575\u001b[0m     artists \u001b[38;5;241m=\u001b[39m plot_func(\n\u001b[0;32m    576\u001b[0m         hist[\u001b[38;5;124m\"\u001b[39m\u001b[38;5;124medges\u001b[39m\u001b[38;5;124m\"\u001b[39m],\n\u001b[0;32m    577\u001b[0m         hist[\u001b[38;5;124m\"\u001b[39m\u001b[38;5;124mheights\u001b[39m\u001b[38;5;124m\"\u001b[39m] \u001b[38;5;241m-\u001b[39m bottom,\n\u001b[0;32m    578\u001b[0m         hist[\u001b[38;5;124m\"\u001b[39m\u001b[38;5;124mwidths\u001b[39m\u001b[38;5;124m\"\u001b[39m],\n\u001b[0;32m    579\u001b[0m         bottom,\n\u001b[0;32m    580\u001b[0m         align\u001b[38;5;241m=\u001b[39m\u001b[38;5;124m\"\u001b[39m\u001b[38;5;124medge\u001b[39m\u001b[38;5;124m\"\u001b[39m,\n\u001b[0;32m    581\u001b[0m         \u001b[38;5;241m*\u001b[39m\u001b[38;5;241m*\u001b[39martist_kws,\n\u001b[0;32m    582\u001b[0m     )\n\u001b[0;32m    584\u001b[0m     \u001b[38;5;28;01mfor\u001b[39;00m bar \u001b[38;5;129;01min\u001b[39;00m artists:\n\u001b[0;32m    585\u001b[0m         \u001b[38;5;28;01mif\u001b[39;00m \u001b[38;5;28mself\u001b[39m\u001b[38;5;241m.\u001b[39mdata_variable \u001b[38;5;241m==\u001b[39m \u001b[38;5;124m\"\u001b[39m\u001b[38;5;124mx\u001b[39m\u001b[38;5;124m\"\u001b[39m:\n",
      "File \u001b[1;32m~\\AppData\\Local\\Programs\\Python\\Python39\\lib\\site-packages\\matplotlib\\__init__.py:1361\u001b[0m, in \u001b[0;36m_preprocess_data.<locals>.inner\u001b[1;34m(ax, data, *args, **kwargs)\u001b[0m\n\u001b[0;32m   1358\u001b[0m \u001b[38;5;129m@functools\u001b[39m\u001b[38;5;241m.\u001b[39mwraps(func)\n\u001b[0;32m   1359\u001b[0m \u001b[38;5;28;01mdef\u001b[39;00m \u001b[38;5;21minner\u001b[39m(ax, \u001b[38;5;241m*\u001b[39margs, data\u001b[38;5;241m=\u001b[39m\u001b[38;5;28;01mNone\u001b[39;00m, \u001b[38;5;241m*\u001b[39m\u001b[38;5;241m*\u001b[39mkwargs):\n\u001b[0;32m   1360\u001b[0m     \u001b[38;5;28;01mif\u001b[39;00m data \u001b[38;5;129;01mis\u001b[39;00m \u001b[38;5;28;01mNone\u001b[39;00m:\n\u001b[1;32m-> 1361\u001b[0m         \u001b[38;5;28;01mreturn\u001b[39;00m func(ax, \u001b[38;5;241m*\u001b[39m\u001b[38;5;28mmap\u001b[39m(sanitize_sequence, args), \u001b[38;5;241m*\u001b[39m\u001b[38;5;241m*\u001b[39mkwargs)\n\u001b[0;32m   1363\u001b[0m     bound \u001b[38;5;241m=\u001b[39m new_sig\u001b[38;5;241m.\u001b[39mbind(ax, \u001b[38;5;241m*\u001b[39margs, \u001b[38;5;241m*\u001b[39m\u001b[38;5;241m*\u001b[39mkwargs)\n\u001b[0;32m   1364\u001b[0m     auto_label \u001b[38;5;241m=\u001b[39m (bound\u001b[38;5;241m.\u001b[39marguments\u001b[38;5;241m.\u001b[39mget(label_namer)\n\u001b[0;32m   1365\u001b[0m                   \u001b[38;5;129;01mor\u001b[39;00m bound\u001b[38;5;241m.\u001b[39mkwargs\u001b[38;5;241m.\u001b[39mget(label_namer))\n",
      "File \u001b[1;32m~\\AppData\\Local\\Programs\\Python\\Python39\\lib\\site-packages\\matplotlib\\axes\\_axes.py:2371\u001b[0m, in \u001b[0;36mAxes.bar\u001b[1;34m(self, x, height, width, bottom, align, **kwargs)\u001b[0m\n\u001b[0;32m   2369\u001b[0m     \u001b[38;5;28;01melif\u001b[39;00m orientation \u001b[38;5;241m==\u001b[39m \u001b[38;5;124m'\u001b[39m\u001b[38;5;124mhorizontal\u001b[39m\u001b[38;5;124m'\u001b[39m:\n\u001b[0;32m   2370\u001b[0m         r\u001b[38;5;241m.\u001b[39msticky_edges\u001b[38;5;241m.\u001b[39mx\u001b[38;5;241m.\u001b[39mappend(l)\n\u001b[1;32m-> 2371\u001b[0m     \u001b[38;5;28;43mself\u001b[39;49m\u001b[38;5;241;43m.\u001b[39;49m\u001b[43madd_patch\u001b[49m\u001b[43m(\u001b[49m\u001b[43mr\u001b[49m\u001b[43m)\u001b[49m\n\u001b[0;32m   2372\u001b[0m     patches\u001b[38;5;241m.\u001b[39mappend(r)\n\u001b[0;32m   2374\u001b[0m \u001b[38;5;28;01mif\u001b[39;00m xerr \u001b[38;5;129;01mis\u001b[39;00m \u001b[38;5;129;01mnot\u001b[39;00m \u001b[38;5;28;01mNone\u001b[39;00m \u001b[38;5;129;01mor\u001b[39;00m yerr \u001b[38;5;129;01mis\u001b[39;00m \u001b[38;5;129;01mnot\u001b[39;00m \u001b[38;5;28;01mNone\u001b[39;00m:\n",
      "File \u001b[1;32m~\\AppData\\Local\\Programs\\Python\\Python39\\lib\\site-packages\\matplotlib\\axes\\_base.py:2170\u001b[0m, in \u001b[0;36m_AxesBase.add_patch\u001b[1;34m(self, p)\u001b[0m\n\u001b[0;32m   2168\u001b[0m \u001b[38;5;28;01mif\u001b[39;00m p\u001b[38;5;241m.\u001b[39mget_clip_path() \u001b[38;5;129;01mis\u001b[39;00m \u001b[38;5;28;01mNone\u001b[39;00m:\n\u001b[0;32m   2169\u001b[0m     p\u001b[38;5;241m.\u001b[39mset_clip_path(\u001b[38;5;28mself\u001b[39m\u001b[38;5;241m.\u001b[39mpatch)\n\u001b[1;32m-> 2170\u001b[0m \u001b[38;5;28;43mself\u001b[39;49m\u001b[38;5;241;43m.\u001b[39;49m\u001b[43m_update_patch_limits\u001b[49m\u001b[43m(\u001b[49m\u001b[43mp\u001b[49m\u001b[43m)\u001b[49m\n\u001b[0;32m   2171\u001b[0m \u001b[38;5;28mself\u001b[39m\u001b[38;5;241m.\u001b[39mpatches\u001b[38;5;241m.\u001b[39mappend(p)\n\u001b[0;32m   2172\u001b[0m p\u001b[38;5;241m.\u001b[39m_remove_method \u001b[38;5;241m=\u001b[39m \u001b[38;5;28mself\u001b[39m\u001b[38;5;241m.\u001b[39mpatches\u001b[38;5;241m.\u001b[39mremove\n",
      "File \u001b[1;32m~\\AppData\\Local\\Programs\\Python\\Python39\\lib\\site-packages\\matplotlib\\axes\\_base.py:2192\u001b[0m, in \u001b[0;36m_AxesBase._update_patch_limits\u001b[1;34m(self, patch)\u001b[0m\n\u001b[0;32m   2189\u001b[0m vertices \u001b[38;5;241m=\u001b[39m p\u001b[38;5;241m.\u001b[39mvertices \u001b[38;5;28;01mif\u001b[39;00m p\u001b[38;5;241m.\u001b[39mcodes \u001b[38;5;129;01mis\u001b[39;00m \u001b[38;5;28;01mNone\u001b[39;00m \u001b[38;5;28;01melse\u001b[39;00m p\u001b[38;5;241m.\u001b[39mvertices[np\u001b[38;5;241m.\u001b[39misin(\n\u001b[0;32m   2190\u001b[0m     p\u001b[38;5;241m.\u001b[39mcodes, (mpath\u001b[38;5;241m.\u001b[39mPath\u001b[38;5;241m.\u001b[39mCLOSEPOLY, mpath\u001b[38;5;241m.\u001b[39mPath\u001b[38;5;241m.\u001b[39mSTOP), invert\u001b[38;5;241m=\u001b[39m\u001b[38;5;28;01mTrue\u001b[39;00m)]\n\u001b[0;32m   2191\u001b[0m \u001b[38;5;28;01mif\u001b[39;00m vertices\u001b[38;5;241m.\u001b[39msize \u001b[38;5;241m>\u001b[39m \u001b[38;5;241m0\u001b[39m:\n\u001b[1;32m-> 2192\u001b[0m     xys \u001b[38;5;241m=\u001b[39m \u001b[43mpatch\u001b[49m\u001b[38;5;241;43m.\u001b[39;49m\u001b[43mget_patch_transform\u001b[49m\u001b[43m(\u001b[49m\u001b[43m)\u001b[49m\u001b[38;5;241;43m.\u001b[39;49m\u001b[43mtransform\u001b[49m\u001b[43m(\u001b[49m\u001b[43mvertices\u001b[49m\u001b[43m)\u001b[49m\n\u001b[0;32m   2193\u001b[0m     \u001b[38;5;28;01mif\u001b[39;00m patch\u001b[38;5;241m.\u001b[39mget_data_transform() \u001b[38;5;241m!=\u001b[39m \u001b[38;5;28mself\u001b[39m\u001b[38;5;241m.\u001b[39mtransData:\n\u001b[0;32m   2194\u001b[0m         patch_to_data \u001b[38;5;241m=\u001b[39m (patch\u001b[38;5;241m.\u001b[39mget_data_transform() \u001b[38;5;241m-\u001b[39m\n\u001b[0;32m   2195\u001b[0m                          \u001b[38;5;28mself\u001b[39m\u001b[38;5;241m.\u001b[39mtransData)\n",
      "File \u001b[1;32m~\\AppData\\Local\\Programs\\Python\\Python39\\lib\\site-packages\\matplotlib\\transforms.py:1470\u001b[0m, in \u001b[0;36mTransform.transform\u001b[1;34m(self, values)\u001b[0m\n\u001b[0;32m   1467\u001b[0m values \u001b[38;5;241m=\u001b[39m values\u001b[38;5;241m.\u001b[39mreshape((\u001b[38;5;241m-\u001b[39m\u001b[38;5;241m1\u001b[39m, \u001b[38;5;28mself\u001b[39m\u001b[38;5;241m.\u001b[39minput_dims))\n\u001b[0;32m   1469\u001b[0m \u001b[38;5;66;03m# Transform the values\u001b[39;00m\n\u001b[1;32m-> 1470\u001b[0m res \u001b[38;5;241m=\u001b[39m \u001b[38;5;28;43mself\u001b[39;49m\u001b[38;5;241;43m.\u001b[39;49m\u001b[43mtransform_affine\u001b[49m\u001b[43m(\u001b[49m\u001b[38;5;28;43mself\u001b[39;49m\u001b[38;5;241;43m.\u001b[39;49m\u001b[43mtransform_non_affine\u001b[49m\u001b[43m(\u001b[49m\u001b[43mvalues\u001b[49m\u001b[43m)\u001b[49m\u001b[43m)\u001b[49m\n\u001b[0;32m   1472\u001b[0m \u001b[38;5;66;03m# Convert the result back to the shape of the input values.\u001b[39;00m\n\u001b[0;32m   1473\u001b[0m \u001b[38;5;28;01mif\u001b[39;00m ndim \u001b[38;5;241m==\u001b[39m \u001b[38;5;241m0\u001b[39m:\n",
      "File \u001b[1;32m~\\AppData\\Local\\Programs\\Python\\Python39\\lib\\site-packages\\matplotlib\\transforms.py:2379\u001b[0m, in \u001b[0;36mCompositeGenericTransform.transform_affine\u001b[1;34m(self, points)\u001b[0m\n\u001b[0;32m   2377\u001b[0m \u001b[38;5;28;01mdef\u001b[39;00m \u001b[38;5;21mtransform_affine\u001b[39m(\u001b[38;5;28mself\u001b[39m, points):\n\u001b[0;32m   2378\u001b[0m     \u001b[38;5;66;03m# docstring inherited\u001b[39;00m\n\u001b[1;32m-> 2379\u001b[0m     \u001b[38;5;28;01mreturn\u001b[39;00m \u001b[38;5;28;43mself\u001b[39;49m\u001b[38;5;241;43m.\u001b[39;49m\u001b[43mget_affine\u001b[49m\u001b[43m(\u001b[49m\u001b[43m)\u001b[49m\u001b[38;5;241m.\u001b[39mtransform(points)\n",
      "File \u001b[1;32m~\\AppData\\Local\\Programs\\Python\\Python39\\lib\\site-packages\\matplotlib\\transforms.py:2406\u001b[0m, in \u001b[0;36mCompositeGenericTransform.get_affine\u001b[1;34m(self)\u001b[0m\n\u001b[0;32m   2404\u001b[0m     \u001b[38;5;28;01mreturn\u001b[39;00m \u001b[38;5;28mself\u001b[39m\u001b[38;5;241m.\u001b[39m_b\u001b[38;5;241m.\u001b[39mget_affine()\n\u001b[0;32m   2405\u001b[0m \u001b[38;5;28;01melse\u001b[39;00m:\n\u001b[1;32m-> 2406\u001b[0m     \u001b[38;5;28;01mreturn\u001b[39;00m \u001b[43mAffine2D\u001b[49m\u001b[43m(\u001b[49m\u001b[43mnp\u001b[49m\u001b[38;5;241;43m.\u001b[39;49m\u001b[43mdot\u001b[49m\u001b[43m(\u001b[49m\u001b[38;5;28;43mself\u001b[39;49m\u001b[38;5;241;43m.\u001b[39;49m\u001b[43m_b\u001b[49m\u001b[38;5;241;43m.\u001b[39;49m\u001b[43mget_affine\u001b[49m\u001b[43m(\u001b[49m\u001b[43m)\u001b[49m\u001b[38;5;241;43m.\u001b[39;49m\u001b[43mget_matrix\u001b[49m\u001b[43m(\u001b[49m\u001b[43m)\u001b[49m\u001b[43m,\u001b[49m\n\u001b[0;32m   2407\u001b[0m \u001b[43m                           \u001b[49m\u001b[38;5;28;43mself\u001b[39;49m\u001b[38;5;241;43m.\u001b[39;49m\u001b[43m_a\u001b[49m\u001b[38;5;241;43m.\u001b[39;49m\u001b[43mget_affine\u001b[49m\u001b[43m(\u001b[49m\u001b[43m)\u001b[49m\u001b[38;5;241;43m.\u001b[39;49m\u001b[43mget_matrix\u001b[49m\u001b[43m(\u001b[49m\u001b[43m)\u001b[49m\u001b[43m)\u001b[49m\u001b[43m)\u001b[49m\n",
      "File \u001b[1;32m~\\AppData\\Local\\Programs\\Python\\Python39\\lib\\site-packages\\matplotlib\\transforms.py:1881\u001b[0m, in \u001b[0;36mAffine2D.__init__\u001b[1;34m(self, matrix, **kwargs)\u001b[0m\n\u001b[0;32m   1878\u001b[0m \u001b[38;5;28;01mif\u001b[39;00m matrix \u001b[38;5;129;01mis\u001b[39;00m \u001b[38;5;28;01mNone\u001b[39;00m:\n\u001b[0;32m   1879\u001b[0m     \u001b[38;5;66;03m# A bit faster than np.identity(3).\u001b[39;00m\n\u001b[0;32m   1880\u001b[0m     matrix \u001b[38;5;241m=\u001b[39m IdentityTransform\u001b[38;5;241m.\u001b[39m_mtx\u001b[38;5;241m.\u001b[39mcopy()\n\u001b[1;32m-> 1881\u001b[0m \u001b[38;5;28mself\u001b[39m\u001b[38;5;241m.\u001b[39m_mtx \u001b[38;5;241m=\u001b[39m \u001b[43mmatrix\u001b[49m\u001b[38;5;241;43m.\u001b[39;49m\u001b[43mcopy\u001b[49m\u001b[43m(\u001b[49m\u001b[43m)\u001b[49m\n\u001b[0;32m   1882\u001b[0m \u001b[38;5;28mself\u001b[39m\u001b[38;5;241m.\u001b[39m_invalid \u001b[38;5;241m=\u001b[39m \u001b[38;5;241m0\u001b[39m\n",
      "\u001b[1;31mKeyboardInterrupt\u001b[0m: "
     ]
    },
    {
     "data": {
      "image/png": "[encoded data removed]",
      "text/plain": [
       "<Figure size 500x500 with 6 Axes>"
      ]
     },
     "metadata": {},
     "output_type": "display_data"
    }
   ],
   "source": [
    "sns.set(style='whitegrid')\n",
    "sns.pairplot(data[['price', 'area']], kind='reg')"
   ]
  },
  {
   "cell_type": "markdown",
   "metadata": {},
   "source": [
    "# Построение регрессии"
   ]
  },
  {
   "cell_type": "markdown",
   "metadata": {},
   "source": [
    "**По всем фичам**"
   ]
  },
  {
   "cell_type": "code",
   "execution_count": 20,
   "metadata": {},
   "outputs": [
    {
     "data": {
      "text/html": [
       "<table class=\"simpletable\">\n",
       "<caption>OLS Regression Results</caption>\n",
       "<tr>\n",
       "  <th>Dep. Variable:</th>          <td>price</td>      <th>  R-squared:         </th>  <td>   0.568</td>  \n",
       "</tr>\n",
       "<tr>\n",
       "  <th>Model:</th>                   <td>OLS</td>       <th>  Adj. R-squared:    </th>  <td>   0.568</td>  \n",
       "</tr>\n",
       "<tr>\n",
       "  <th>Method:</th>             <td>Least Squares</td>  <th>  F-statistic:       </th>  <td>4.627e+05</td> \n",
       "</tr>\n",
       "<tr>\n",
       "  <th>Date:</th>             <td>Thu, 29 Jun 2023</td> <th>  Prob (F-statistic):</th>   <td>  0.00</td>   \n",
       "</tr>\n",
       "<tr>\n",
       "  <th>Time:</th>                 <td>20:40:11</td>     <th>  Log-Likelihood:    </th> <td>-7.9314e+07</td>\n",
       "</tr>\n",
       "<tr>\n",
       "  <th>No. Observations:</th>      <td>4920185</td>     <th>  AIC:               </th>  <td>1.586e+08</td> \n",
       "</tr>\n",
       "<tr>\n",
       "  <th>Df Residuals:</th>          <td>4920170</td>     <th>  BIC:               </th>  <td>1.586e+08</td> \n",
       "</tr>\n",
       "<tr>\n",
       "  <th>Df Model:</th>              <td>    14</td>      <th>                     </th>      <td> </td>     \n",
       "</tr>\n",
       "<tr>\n",
       "  <th>Covariance Type:</th>      <td>nonrobust</td>    <th>                     </th>      <td> </td>     \n",
       "</tr>\n",
       "</table>\n",
       "<table class=\"simpletable\">\n",
       "<tr>\n",
       "         <td></td>            <th>coef</th>     <th>std err</th>      <th>t</th>      <th>P>|t|</th>  <th>[0.025</th>    <th>0.975]</th>  \n",
       "</tr>\n",
       "<tr>\n",
       "  <th>Intercept</th>       <td>-9.666e+08</td> <td> 3.49e+06</td> <td> -276.875</td> <td> 0.000</td> <td>-9.73e+08</td> <td> -9.6e+08</td>\n",
       "</tr>\n",
       "<tr>\n",
       "  <th>region</th>          <td> -308.0450</td> <td>    0.433</td> <td> -711.117</td> <td> 0.000</td> <td> -308.894</td> <td> -307.196</td>\n",
       "</tr>\n",
       "<tr>\n",
       "  <th>building_type</th>   <td>-1.582e+04</td> <td> 1259.406</td> <td>  -12.562</td> <td> 0.000</td> <td>-1.83e+04</td> <td>-1.34e+04</td>\n",
       "</tr>\n",
       "<tr>\n",
       "  <th>level</th>           <td> 6721.1239</td> <td>  796.771</td> <td>    8.435</td> <td> 0.000</td> <td> 5159.481</td> <td> 8282.767</td>\n",
       "</tr>\n",
       "<tr>\n",
       "  <th>levels</th>          <td> 1.213e+05</td> <td>  523.193</td> <td>  231.833</td> <td> 0.000</td> <td>  1.2e+05</td> <td> 1.22e+05</td>\n",
       "</tr>\n",
       "<tr>\n",
       "  <th>rooms</th>           <td>-1.456e+06</td> <td> 5713.657</td> <td> -254.872</td> <td> 0.000</td> <td>-1.47e+06</td> <td>-1.45e+06</td>\n",
       "</tr>\n",
       "<tr>\n",
       "  <th>area</th>            <td> 1.422e+05</td> <td>  258.994</td> <td>  549.163</td> <td> 0.000</td> <td> 1.42e+05</td> <td> 1.43e+05</td>\n",
       "</tr>\n",
       "<tr>\n",
       "  <th>kitchen_area</th>    <td> -3.34e+04</td> <td> 1063.870</td> <td>  -31.391</td> <td> 0.000</td> <td>-3.55e+04</td> <td>-3.13e+04</td>\n",
       "</tr>\n",
       "<tr>\n",
       "  <th>object_type</th>     <td> 2.359e+07</td> <td> 9.73e+04</td> <td>  242.473</td> <td> 0.000</td> <td> 2.34e+07</td> <td> 2.38e+07</td>\n",
       "</tr>\n",
       "<tr>\n",
       "  <th>year</th>            <td> 4.677e+05</td> <td> 1685.584</td> <td>  277.468</td> <td> 0.000</td> <td> 4.64e+05</td> <td> 4.71e+05</td>\n",
       "</tr>\n",
       "<tr>\n",
       "  <th>month</th>           <td> 3.268e+04</td> <td>  415.323</td> <td>   78.682</td> <td> 0.000</td> <td> 3.19e+04</td> <td> 3.35e+04</td>\n",
       "</tr>\n",
       "<tr>\n",
       "  <th>day</th>             <td>   24.2195</td> <td>  140.057</td> <td>    0.173</td> <td> 0.863</td> <td> -250.287</td> <td>  298.726</td>\n",
       "</tr>\n",
       "<tr>\n",
       "  <th>level_to_levels</th> <td>-1.451e+05</td> <td> 8998.328</td> <td>  -16.130</td> <td> 0.000</td> <td>-1.63e+05</td> <td>-1.28e+05</td>\n",
       "</tr>\n",
       "<tr>\n",
       "  <th>avg_room_size</th>   <td>-6.749e+04</td> <td>  372.565</td> <td> -181.139</td> <td> 0.000</td> <td>-6.82e+04</td> <td>-6.68e+04</td>\n",
       "</tr>\n",
       "<tr>\n",
       "  <th>kitchen_share</th>   <td> 7.455e+05</td> <td> 5.64e+04</td> <td>   13.214</td> <td> 0.000</td> <td> 6.35e+05</td> <td> 8.56e+05</td>\n",
       "</tr>\n",
       "</table>\n",
       "<table class=\"simpletable\">\n",
       "<tr>\n",
       "  <th>Omnibus:</th>       <td>4863603.910</td> <th>  Durbin-Watson:     </th>   <td>   1.805</td>   \n",
       "</tr>\n",
       "<tr>\n",
       "  <th>Prob(Omnibus):</th>   <td> 0.000</td>    <th>  Jarque-Bera (JB):  </th> <td>459856033.504</td>\n",
       "</tr>\n",
       "<tr>\n",
       "  <th>Skew:</th>            <td> 4.678</td>    <th>  Prob(JB):          </th>   <td>    0.00</td>   \n",
       "</tr>\n",
       "<tr>\n",
       "  <th>Kurtosis:</th>        <td>49.428</td>    <th>  Cond. No.          </th>   <td>1.43e+07</td>   \n",
       "</tr>\n",
       "</table><br/><br/>Notes:<br/>[1] Standard Errors assume that the covariance matrix of the errors is correctly specified.<br/>[2] The condition number is large, 1.43e+07. This might indicate that there are<br/>strong multicollinearity or other numerical problems."
      ],
      "text/latex": [
       "\\begin{center}\n",
       "\\begin{tabular}{lclc}\n",
       "\\toprule\n",
       "\\textbf{Dep. Variable:}    &      price       & \\textbf{  R-squared:         } &       0.568    \\\\\n",
       "\\textbf{Model:}            &       OLS        & \\textbf{  Adj. R-squared:    } &       0.568    \\\\\n",
       "\\textbf{Method:}           &  Least Squares   & \\textbf{  F-statistic:       } &   4.627e+05    \\\\\n",
       "\\textbf{Date:}             & Thu, 29 Jun 2023 & \\textbf{  Prob (F-statistic):} &       0.00     \\\\\n",
       "\\textbf{Time:}             &     20:40:11     & \\textbf{  Log-Likelihood:    } &  -7.9314e+07   \\\\\n",
       "\\textbf{No. Observations:} &     4920185      & \\textbf{  AIC:               } &   1.586e+08    \\\\\n",
       "\\textbf{Df Residuals:}     &     4920170      & \\textbf{  BIC:               } &   1.586e+08    \\\\\n",
       "\\textbf{Df Model:}         &          14      & \\textbf{                     } &                \\\\\n",
       "\\textbf{Covariance Type:}  &    nonrobust     & \\textbf{                     } &                \\\\\n",
       "\\bottomrule\n",
       "\\end{tabular}\n",
       "\\begin{tabular}{lcccccc}\n",
       "                           & \\textbf{coef} & \\textbf{std err} & \\textbf{t} & \\textbf{P$> |$t$|$} & \\textbf{[0.025} & \\textbf{0.975]}  \\\\\n",
       "\\midrule\n",
       "\\textbf{Intercept}         &   -9.666e+08  &     3.49e+06     &  -276.875  &         0.000        &    -9.73e+08    &     -9.6e+08     \\\\\n",
       "\\textbf{region}            &    -308.0450  &        0.433     &  -711.117  &         0.000        &     -308.894    &     -307.196     \\\\\n",
       "\\textbf{building\\_type}    &   -1.582e+04  &     1259.406     &   -12.562  &         0.000        &    -1.83e+04    &    -1.34e+04     \\\\\n",
       "\\textbf{level}             &    6721.1239  &      796.771     &     8.435  &         0.000        &     5159.481    &     8282.767     \\\\\n",
       "\\textbf{levels}            &    1.213e+05  &      523.193     &   231.833  &         0.000        &      1.2e+05    &     1.22e+05     \\\\\n",
       "\\textbf{rooms}             &   -1.456e+06  &     5713.657     &  -254.872  &         0.000        &    -1.47e+06    &    -1.45e+06     \\\\\n",
       "\\textbf{area}              &    1.422e+05  &      258.994     &   549.163  &         0.000        &     1.42e+05    &     1.43e+05     \\\\\n",
       "\\textbf{kitchen\\_area}     &    -3.34e+04  &     1063.870     &   -31.391  &         0.000        &    -3.55e+04    &    -3.13e+04     \\\\\n",
       "\\textbf{object\\_type}      &    2.359e+07  &     9.73e+04     &   242.473  &         0.000        &     2.34e+07    &     2.38e+07     \\\\\n",
       "\\textbf{year}              &    4.677e+05  &     1685.584     &   277.468  &         0.000        &     4.64e+05    &     4.71e+05     \\\\\n",
       "\\textbf{month}             &    3.268e+04  &      415.323     &    78.682  &         0.000        &     3.19e+04    &     3.35e+04     \\\\\n",
       "\\textbf{day}               &      24.2195  &      140.057     &     0.173  &         0.863        &     -250.287    &      298.726     \\\\\n",
       "\\textbf{level\\_to\\_levels} &   -1.451e+05  &     8998.328     &   -16.130  &         0.000        &    -1.63e+05    &    -1.28e+05     \\\\\n",
       "\\textbf{avg\\_room\\_size}   &   -6.749e+04  &      372.565     &  -181.139  &         0.000        &    -6.82e+04    &    -6.68e+04     \\\\\n",
       "\\textbf{kitchen\\_share}    &    7.455e+05  &     5.64e+04     &    13.214  &         0.000        &     6.35e+05    &     8.56e+05     \\\\\n",
       "\\bottomrule\n",
       "\\end{tabular}\n",
       "\\begin{tabular}{lclc}\n",
       "\\textbf{Omnibus:}       & 4863603.910 & \\textbf{  Durbin-Watson:     } &       1.805    \\\\\n",
       "\\textbf{Prob(Omnibus):} &     0.000   & \\textbf{  Jarque-Bera (JB):  } & 459856033.504  \\\\\n",
       "\\textbf{Skew:}          &     4.678   & \\textbf{  Prob(JB):          } &        0.00    \\\\\n",
       "\\textbf{Kurtosis:}      &    49.428   & \\textbf{  Cond. No.          } &    1.43e+07    \\\\\n",
       "\\bottomrule\n",
       "\\end{tabular}\n",
       "%\\caption{OLS Regression Results}\n",
       "\\end{center}\n",
       "\n",
       "Notes: \\newline\n",
       " [1] Standard Errors assume that the covariance matrix of the errors is correctly specified. \\newline\n",
       " [2] The condition number is large, 1.43e+07. This might indicate that there are \\newline\n",
       " strong multicollinearity or other numerical problems."
      ],
      "text/plain": [
       "<class 'statsmodels.iolib.summary.Summary'>\n",
       "\"\"\"\n",
       "                            OLS Regression Results                            \n",
       "==============================================================================\n",
       "Dep. Variable:                  price   R-squared:                       0.568\n",
       "Model:                            OLS   Adj. R-squared:                  0.568\n",
       "Method:                 Least Squares   F-statistic:                 4.627e+05\n",
       "Date:                Thu, 29 Jun 2023   Prob (F-statistic):               0.00\n",
       "Time:                        20:40:11   Log-Likelihood:            -7.9314e+07\n",
       "No. Observations:             4920185   AIC:                         1.586e+08\n",
       "Df Residuals:                 4920170   BIC:                         1.586e+08\n",
       "Df Model:                          14                                         \n",
       "Covariance Type:            nonrobust                                         \n",
       "===================================================================================\n",
       "                      coef    std err          t      P>|t|      [0.025      0.975]\n",
       "-----------------------------------------------------------------------------------\n",
       "Intercept       -9.666e+08   3.49e+06   -276.875      0.000   -9.73e+08    -9.6e+08\n",
       "region           -308.0450      0.433   -711.117      0.000    -308.894    -307.196\n",
       "building_type   -1.582e+04   1259.406    -12.562      0.000   -1.83e+04   -1.34e+04\n",
       "level            6721.1239    796.771      8.435      0.000    5159.481    8282.767\n",
       "levels           1.213e+05    523.193    231.833      0.000     1.2e+05    1.22e+05\n",
       "rooms           -1.456e+06   5713.657   -254.872      0.000   -1.47e+06   -1.45e+06\n",
       "area             1.422e+05    258.994    549.163      0.000    1.42e+05    1.43e+05\n",
       "kitchen_area     -3.34e+04   1063.870    -31.391      0.000   -3.55e+04   -3.13e+04\n",
       "object_type      2.359e+07   9.73e+04    242.473      0.000    2.34e+07    2.38e+07\n",
       "year             4.677e+05   1685.584    277.468      0.000    4.64e+05    4.71e+05\n",
       "month            3.268e+04    415.323     78.682      0.000    3.19e+04    3.35e+04\n",
       "day                24.2195    140.057      0.173      0.863    -250.287     298.726\n",
       "level_to_levels -1.451e+05   8998.328    -16.130      0.000   -1.63e+05   -1.28e+05\n",
       "avg_room_size   -6.749e+04    372.565   -181.139      0.000   -6.82e+04   -6.68e+04\n",
       "kitchen_share    7.455e+05   5.64e+04     13.214      0.000    6.35e+05    8.56e+05\n",
       "==============================================================================\n",
       "Omnibus:                  4863603.910   Durbin-Watson:                   1.805\n",
       "Prob(Omnibus):                  0.000   Jarque-Bera (JB):        459856033.504\n",
       "Skew:                           4.678   Prob(JB):                         0.00\n",
       "Kurtosis:                      49.428   Cond. No.                     1.43e+07\n",
       "==============================================================================\n",
       "\n",
       "Notes:\n",
       "[1] Standard Errors assume that the covariance matrix of the errors is correctly specified.\n",
       "[2] The condition number is large, 1.43e+07. This might indicate that there are\n",
       "strong multicollinearity or other numerical problems.\n",
       "\"\"\""
      ]
     },
     "execution_count": 20,
     "metadata": {},
     "output_type": "execute_result"
    }
   ],
   "source": [
    "import statsmodels.formula.api as smf \n",
    "x = ' + '.join(data.columns.to_list()[1:])\n",
    "results = smf.ols(f'price ~ {x}', data).fit()\n",
    "results.summary()"
   ]
  },
  {
   "cell_type": "markdown",
   "metadata": {},
   "source": [
    "**По основным фичам**"
   ]
  },
  {
   "cell_type": "code",
   "execution_count": 29,
   "metadata": {},
   "outputs": [
    {
     "data": {
      "text/html": [
       "<table class=\"simpletable\">\n",
       "<caption>OLS Regression Results</caption>\n",
       "<tr>\n",
       "  <th>Dep. Variable:</th>          <td>price</td>      <th>  R-squared:         </th>  <td>   0.499</td>  \n",
       "</tr>\n",
       "<tr>\n",
       "  <th>Model:</th>                   <td>OLS</td>       <th>  Adj. R-squared:    </th>  <td>   0.499</td>  \n",
       "</tr>\n",
       "<tr>\n",
       "  <th>Method:</th>             <td>Least Squares</td>  <th>  F-statistic:       </th>  <td>9.792e+05</td> \n",
       "</tr>\n",
       "<tr>\n",
       "  <th>Date:</th>             <td>Thu, 29 Jun 2023</td> <th>  Prob (F-statistic):</th>   <td>  0.00</td>   \n",
       "</tr>\n",
       "<tr>\n",
       "  <th>Time:</th>                 <td>20:42:27</td>     <th>  Log-Likelihood:    </th> <td>-7.9682e+07</td>\n",
       "</tr>\n",
       "<tr>\n",
       "  <th>No. Observations:</th>      <td>4920185</td>     <th>  AIC:               </th>  <td>1.594e+08</td> \n",
       "</tr>\n",
       "<tr>\n",
       "  <th>Df Residuals:</th>          <td>4920179</td>     <th>  BIC:               </th>  <td>1.594e+08</td> \n",
       "</tr>\n",
       "<tr>\n",
       "  <th>Df Model:</th>              <td>     5</td>      <th>                     </th>      <td> </td>     \n",
       "</tr>\n",
       "<tr>\n",
       "  <th>Covariance Type:</th>      <td>nonrobust</td>    <th>                     </th>      <td> </td>     \n",
       "</tr>\n",
       "</table>\n",
       "<table class=\"simpletable\">\n",
       "<tr>\n",
       "        <td></td>           <th>coef</th>     <th>std err</th>      <th>t</th>      <th>P>|t|</th>  <th>[0.025</th>    <th>0.975]</th>  \n",
       "</tr>\n",
       "<tr>\n",
       "  <th>Intercept</th>     <td>-9.168e+05</td> <td> 3523.653</td> <td> -260.187</td> <td> 0.000</td> <td>-9.24e+05</td> <td> -9.1e+05</td>\n",
       "</tr>\n",
       "<tr>\n",
       "  <th>area</th>          <td> 7.642e+04</td> <td>   67.641</td> <td> 1129.789</td> <td> 0.000</td> <td> 7.63e+04</td> <td> 7.66e+04</td>\n",
       "</tr>\n",
       "<tr>\n",
       "  <th>avg_room_size</th> <td>-3.185e+04</td> <td>  132.823</td> <td> -239.805</td> <td> 0.000</td> <td>-3.21e+04</td> <td>-3.16e+04</td>\n",
       "</tr>\n",
       "<tr>\n",
       "  <th>building_type</th> <td> 1.007e+05</td> <td> 1345.085</td> <td>   74.866</td> <td> 0.000</td> <td> 9.81e+04</td> <td> 1.03e+05</td>\n",
       "</tr>\n",
       "<tr>\n",
       "  <th>levels</th>        <td> 1.598e+05</td> <td>  274.397</td> <td>  582.515</td> <td> 0.000</td> <td> 1.59e+05</td> <td>  1.6e+05</td>\n",
       "</tr>\n",
       "<tr>\n",
       "  <th>kitchen_area</th>  <td> 2.059e+04</td> <td>  463.488</td> <td>   44.432</td> <td> 0.000</td> <td> 1.97e+04</td> <td> 2.15e+04</td>\n",
       "</tr>\n",
       "</table>\n",
       "<table class=\"simpletable\">\n",
       "<tr>\n",
       "  <th>Omnibus:</th>       <td>5086352.855</td> <th>  Durbin-Watson:     </th>   <td>   1.764</td>   \n",
       "</tr>\n",
       "<tr>\n",
       "  <th>Prob(Omnibus):</th>   <td> 0.000</td>    <th>  Jarque-Bera (JB):  </th> <td>478252587.847</td>\n",
       "</tr>\n",
       "<tr>\n",
       "  <th>Skew:</th>            <td> 5.069</td>    <th>  Prob(JB):          </th>   <td>    0.00</td>   \n",
       "</tr>\n",
       "<tr>\n",
       "  <th>Kurtosis:</th>        <td>50.224</td>    <th>  Cond. No.          </th>   <td>    175.</td>   \n",
       "</tr>\n",
       "</table><br/><br/>Notes:<br/>[1] Standard Errors assume that the covariance matrix of the errors is correctly specified."
      ],
      "text/latex": [
       "\\begin{center}\n",
       "\\begin{tabular}{lclc}\n",
       "\\toprule\n",
       "\\textbf{Dep. Variable:}    &      price       & \\textbf{  R-squared:         } &       0.499    \\\\\n",
       "\\textbf{Model:}            &       OLS        & \\textbf{  Adj. R-squared:    } &       0.499    \\\\\n",
       "\\textbf{Method:}           &  Least Squares   & \\textbf{  F-statistic:       } &   9.792e+05    \\\\\n",
       "\\textbf{Date:}             & Thu, 29 Jun 2023 & \\textbf{  Prob (F-statistic):} &       0.00     \\\\\n",
       "\\textbf{Time:}             &     20:42:27     & \\textbf{  Log-Likelihood:    } &  -7.9682e+07   \\\\\n",
       "\\textbf{No. Observations:} &     4920185      & \\textbf{  AIC:               } &   1.594e+08    \\\\\n",
       "\\textbf{Df Residuals:}     &     4920179      & \\textbf{  BIC:               } &   1.594e+08    \\\\\n",
       "\\textbf{Df Model:}         &           5      & \\textbf{                     } &                \\\\\n",
       "\\textbf{Covariance Type:}  &    nonrobust     & \\textbf{                     } &                \\\\\n",
       "\\bottomrule\n",
       "\\end{tabular}\n",
       "\\begin{tabular}{lcccccc}\n",
       "                         & \\textbf{coef} & \\textbf{std err} & \\textbf{t} & \\textbf{P$> |$t$|$} & \\textbf{[0.025} & \\textbf{0.975]}  \\\\\n",
       "\\midrule\n",
       "\\textbf{Intercept}       &   -9.168e+05  &     3523.653     &  -260.187  &         0.000        &    -9.24e+05    &     -9.1e+05     \\\\\n",
       "\\textbf{area}            &    7.642e+04  &       67.641     &  1129.789  &         0.000        &     7.63e+04    &     7.66e+04     \\\\\n",
       "\\textbf{avg\\_room\\_size} &   -3.185e+04  &      132.823     &  -239.805  &         0.000        &    -3.21e+04    &    -3.16e+04     \\\\\n",
       "\\textbf{building\\_type}  &    1.007e+05  &     1345.085     &    74.866  &         0.000        &     9.81e+04    &     1.03e+05     \\\\\n",
       "\\textbf{levels}          &    1.598e+05  &      274.397     &   582.515  &         0.000        &     1.59e+05    &      1.6e+05     \\\\\n",
       "\\textbf{kitchen\\_area}   &    2.059e+04  &      463.488     &    44.432  &         0.000        &     1.97e+04    &     2.15e+04     \\\\\n",
       "\\bottomrule\n",
       "\\end{tabular}\n",
       "\\begin{tabular}{lclc}\n",
       "\\textbf{Omnibus:}       & 5086352.855 & \\textbf{  Durbin-Watson:     } &       1.764    \\\\\n",
       "\\textbf{Prob(Omnibus):} &     0.000   & \\textbf{  Jarque-Bera (JB):  } & 478252587.847  \\\\\n",
       "\\textbf{Skew:}          &     5.069   & \\textbf{  Prob(JB):          } &        0.00    \\\\\n",
       "\\textbf{Kurtosis:}      &    50.224   & \\textbf{  Cond. No.          } &        175.    \\\\\n",
       "\\bottomrule\n",
       "\\end{tabular}\n",
       "%\\caption{OLS Regression Results}\n",
       "\\end{center}\n",
       "\n",
       "Notes: \\newline\n",
       " [1] Standard Errors assume that the covariance matrix of the errors is correctly specified."
      ],
      "text/plain": [
       "<class 'statsmodels.iolib.summary.Summary'>\n",
       "\"\"\"\n",
       "                            OLS Regression Results                            \n",
       "==============================================================================\n",
       "Dep. Variable:                  price   R-squared:                       0.499\n",
       "Model:                            OLS   Adj. R-squared:                  0.499\n",
       "Method:                 Least Squares   F-statistic:                 9.792e+05\n",
       "Date:                Thu, 29 Jun 2023   Prob (F-statistic):               0.00\n",
       "Time:                        20:42:27   Log-Likelihood:            -7.9682e+07\n",
       "No. Observations:             4920185   AIC:                         1.594e+08\n",
       "Df Residuals:                 4920179   BIC:                         1.594e+08\n",
       "Df Model:                           5                                         \n",
       "Covariance Type:            nonrobust                                         \n",
       "=================================================================================\n",
       "                    coef    std err          t      P>|t|      [0.025      0.975]\n",
       "---------------------------------------------------------------------------------\n",
       "Intercept     -9.168e+05   3523.653   -260.187      0.000   -9.24e+05    -9.1e+05\n",
       "area           7.642e+04     67.641   1129.789      0.000    7.63e+04    7.66e+04\n",
       "avg_room_size -3.185e+04    132.823   -239.805      0.000   -3.21e+04   -3.16e+04\n",
       "building_type  1.007e+05   1345.085     74.866      0.000    9.81e+04    1.03e+05\n",
       "levels         1.598e+05    274.397    582.515      0.000    1.59e+05     1.6e+05\n",
       "kitchen_area   2.059e+04    463.488     44.432      0.000    1.97e+04    2.15e+04\n",
       "==============================================================================\n",
       "Omnibus:                  5086352.855   Durbin-Watson:                   1.764\n",
       "Prob(Omnibus):                  0.000   Jarque-Bera (JB):        478252587.847\n",
       "Skew:                           5.069   Prob(JB):                         0.00\n",
       "Kurtosis:                      50.224   Cond. No.                         175.\n",
       "==============================================================================\n",
       "\n",
       "Notes:\n",
       "[1] Standard Errors assume that the covariance matrix of the errors is correctly specified.\n",
       "\"\"\""
      ]
     },
     "execution_count": 29,
     "metadata": {},
     "output_type": "execute_result"
    }
   ],
   "source": [
    "results = smf.ols(f'price ~ area + avg_room_size + building_type + levels + kitchen_area', data).fit()\n",
    "results.summary()"
   ]
  }
 ],
 "metadata": {
  "kernelspec": {
   "display_name": "Python 3 (ipykernel)",
   "language": "python",
   "name": "python3"
  },
  "language_info": {
   "codemirror_mode": {
    "name": "ipython",
    "version": 3
   },
   "file_extension": ".py",
   "mimetype": "text/x-python",
   "name": "python",
   "nbconvert_exporter": "python",
   "pygments_lexer": "ipython3",
   "version": "3.9.5"
  }
 },
 "nbformat": 4,
 "nbformat_minor": 2
}
